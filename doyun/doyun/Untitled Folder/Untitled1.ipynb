{
 "cells": [
  {
   "cell_type": "code",
   "execution_count": 1,
   "metadata": {},
   "outputs": [],
   "source": [
    "import json\n",
    "import http"
   ]
  },
  {
   "cell_type": "code",
   "execution_count": 41,
   "metadata": {},
   "outputs": [],
   "source": [
    "#특정 단어를 입력해서 words.api를 이용해 단어를 추출한다.\n",
    "#하루 2500개 한정, 결과값에서 word, definition, partOfSpeech, synonyms, typeOf 5가지가 필요함\n",
    "def find_words(word):\n",
    "    conn = http.client.HTTPSConnection(\"wordsapiv1.p.rapidapi.com\")\n",
    "\n",
    "    headers = {\n",
    "        'x-rapidapi-host': \"wordsapiv1.p.rapidapi.com\",\n",
    "        'x-rapidapi-key': \"b7e5b439c1msh2538323111fb64bp18e1d5jsn1bb7c3706176\"\n",
    "        }\n",
    "\n",
    "    conn.request(\"GET\", \"/words/\"+word, headers=headers)\n",
    "\n",
    "    res = conn.getresponse()\n",
    "    rawdata = res.read()\n",
    "    data=rawdata.decode(\"utf-8\")\n",
    "    jsondata=json.loads(data)\n",
    "    return jsondata"
   ]
  },
  {
   "cell_type": "code",
   "execution_count": 34,
   "metadata": {},
   "outputs": [],
   "source": [
    "#몬스터 헌터에 관련된 json데이터 추출\n",
    "def monsterhunterdb():\n",
    "    conn = http.client.HTTPSConnection(\"mhw-db.com\")\n",
    "    \n",
    "    conn.request(\"GET\",\"/monsters\")\n",
    "    res = conn.getresponse()\n",
    "    rawdata = res.read()\n",
    "    data=rawdata.decode(\"utf-8\")\n",
    "    jsondata=json.loads(data)\n",
    "    return jsondata"
   ]
  },
  {
   "cell_type": "code",
   "execution_count": 79,
   "metadata": {},
   "outputs": [],
   "source": [
    "#글을 어근화\n",
    "def lemmatizing(text):\n",
    "    from nltk.tokenize import word_tokenize\n",
    "    text=monsterhunterdb()[0]['description']\n",
    "    tokens = word_tokenize(text)\n",
    "    from nltk.stem.wordnet import WordNetLemmatizer\n",
    "    lemmatizer = WordNetLemmatizer()\n",
    "    wordset = []\n",
    "    for i in tokens:\n",
    "        word = lemmatizer.lemmatize(i)\n",
    "        if i==word:\n",
    "            word = lemmatizer.lemmatize(i, 'v')\n",
    "        wordset.append(word)\n",
    "    return wordset"
   ]
  },
  {
   "cell_type": "code",
   "execution_count": 106,
   "metadata": {},
   "outputs": [],
   "source": [
    "ex1=monsterhunterdb()[0]"
   ]
  },
  {
   "cell_type": "code",
   "execution_count": 107,
   "metadata": {},
   "outputs": [
    {
     "name": "stdout",
     "output_type": "stream",
     "text": [
      "id\n",
      "name\n",
      "type\n",
      "species\n",
      "description\n",
      "elements\n",
      "ailments\n",
      "locations\n",
      "resistances\n",
      "weaknesses\n",
      "rewards\n"
     ]
    }
   ],
   "source": [
    "for i in ex1.keys():\n",
    "    print(i)"
   ]
  },
  {
   "cell_type": "code",
   "execution_count": 111,
   "metadata": {},
   "outputs": [
    {
     "data": {
      "text/plain": [
       "dict_keys(['id', 'item', 'conditions'])"
      ]
     },
     "execution_count": 111,
     "metadata": {},
     "output_type": "execute_result"
    }
   ],
   "source": [
    "ex1[\"rewards\"][0].keys()"
   ]
  },
  {
   "cell_type": "code",
   "execution_count": null,
   "metadata": {},
   "outputs": [],
   "source": []
  }
 ],
 "metadata": {
  "kernelspec": {
   "display_name": "Python 3",
   "language": "python",
   "name": "python3"
  },
  "language_info": {
   "codemirror_mode": {
    "name": "ipython",
    "version": 3
   },
   "file_extension": ".py",
   "mimetype": "text/x-python",
   "name": "python",
   "nbconvert_exporter": "python",
   "pygments_lexer": "ipython3",
   "version": "3.7.3"
  }
 },
 "nbformat": 4,
 "nbformat_minor": 2
}
